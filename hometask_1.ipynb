{
 "cells": [
  {
   "cell_type": "code",
   "execution_count": 140,
   "metadata": {},
   "outputs": [],
   "source": [
    "class Test:\n",
    "    @staticmethod\n",
    "    def assert_equals(a, b, *args, **kwargs):\n",
    "        assert a == b\n",
    "        print('Passed')"
   ]
  },
  {
   "cell_type": "code",
   "execution_count": 141,
   "metadata": {},
   "outputs": [],
   "source": [
    "#1.How Many Solutions Does This Quadratic Have?\n",
    "def solutions(a,b,c):\n",
    "    D=b*b-4*a*c\n",
    "    if D > 0:\n",
    "        return 2\n",
    "    elif D == 0:\n",
    "        return 1\n",
    "    else:\n",
    "        return 0\n"
   ]
  },
  {
   "cell_type": "code",
   "execution_count": 142,
   "metadata": {},
   "outputs": [
    {
     "name": "stdout",
     "output_type": "stream",
     "text": [
      "Passed\n",
      "Passed\n",
      "Passed\n",
      "Passed\n",
      "Passed\n",
      "Passed\n",
      "Passed\n"
     ]
    }
   ],
   "source": [
    "Test.assert_equals(solutions(1, 0, -1), 2)\n",
    "Test.assert_equals(solutions(1, 0, 0), 1)\n",
    "Test.assert_equals(solutions(1, 0, 1), 0)\n",
    "Test.assert_equals(solutions(200, 420, 800), 0)\n",
    "Test.assert_equals(solutions(200, 420, -800), 2)\n",
    "Test.assert_equals(solutions(1000, 1000, 0), 2)\n",
    "Test.assert_equals(solutions(10000, 400, 4), 1)"
   ]
  },
  {
   "cell_type": "code",
   "execution_count": 143,
   "metadata": {},
   "outputs": [],
   "source": [
    "#2.Factorial of a Number\n",
    "def fact(n):\n",
    "\tif n == 0:\n",
    "\t\treturn 1\n",
    "\telse:\n",
    "\t\ti=1\n",
    "\t\tf=1\n",
    "\t\twhile i <= n:\n",
    "\t\t\tf=f*i\n",
    "\t\t\ti=i+1\n",
    "\t\treturn f"
   ]
  },
  {
   "cell_type": "code",
   "execution_count": 144,
   "metadata": {},
   "outputs": [
    {
     "name": "stdout",
     "output_type": "stream",
     "text": [
      "Passed\n",
      "Passed\n",
      "Passed\n",
      "Passed\n",
      "Passed\n",
      "Passed\n",
      "Passed\n"
     ]
    }
   ],
   "source": [
    "Test.assert_equals(fact(0), 1)\n",
    "Test.assert_equals(fact(1), 1)\n",
    "Test.assert_equals(fact(2), 2)\n",
    "Test.assert_equals(fact(3), 6)\n",
    "Test.assert_equals(fact(7), 5040)\n",
    "Test.assert_equals(fact(9), 362880)\n",
    "Test.assert_equals(fact(15), 1307674368000)"
   ]
  },
  {
   "cell_type": "code",
   "execution_count": 145,
   "metadata": {},
   "outputs": [],
   "source": [
    "#3.Date Format\n",
    "def format_date(date):\n",
    "\treturn(date[6:10]+date[3:5]+date[0:2])"
   ]
  },
  {
   "cell_type": "code",
   "execution_count": 146,
   "metadata": {},
   "outputs": [
    {
     "name": "stdout",
     "output_type": "stream",
     "text": [
      "Passed\n",
      "Passed\n",
      "Passed\n"
     ]
    }
   ],
   "source": [
    "Test.assert_equals(format_date(\"11/12/2019\"),\"20191211\")\n",
    "Test.assert_equals(format_date(\"12/31/2019\"), \"20193112\")\n",
    "Test.assert_equals(format_date(\"01/15/2019\"), \"20191501\")"
   ]
  },
  {
   "cell_type": "code",
   "execution_count": 147,
   "metadata": {},
   "outputs": [],
   "source": [
    "#4.Check If Lines Are Parallel\n",
    "def lines_are_parallel(l1, l2):\n",
    "\tif l1[0]*l2[1] == l1[1]*l2[0]:\n",
    "\t\treturn True\n",
    "\telse:\n",
    "\t\treturn False"
   ]
  },
  {
   "cell_type": "code",
   "execution_count": 148,
   "metadata": {},
   "outputs": [
    {
     "name": "stdout",
     "output_type": "stream",
     "text": [
      "Passed\n",
      "Passed\n",
      "Passed\n",
      "Passed\n",
      "Passed\n",
      "Passed\n",
      "Passed\n",
      "Passed\n",
      "Passed\n"
     ]
    }
   ],
   "source": [
    "Test.assert_equals(lines_are_parallel([1,2,3], [1,2,4]), True, \"Given example 1.\")\n",
    "Test.assert_equals(lines_are_parallel([2,4,1], [4,2,1]), False, \"Given example 2.\")\n",
    "Test.assert_equals(lines_are_parallel([0,1,5], [0,1,5]), True, \"Given example 3.\")\n",
    "Test.assert_equals(lines_are_parallel([2,5,0], [20,50,10]), True)\n",
    "Test.assert_equals(lines_are_parallel([2,5,0], [-200,-500,10]), True)\n",
    "Test.assert_equals(lines_are_parallel([400000,1,0], [400000,2,0]), False)\n",
    "Test.assert_equals(lines_are_parallel([800,20,0], [40,20,0]), False)\n",
    "Test.assert_equals(lines_are_parallel([400000,1,0], [800000,2,100000]), True)\n",
    "Test.assert_equals(lines_are_parallel([-5,7,100000], [5,-7,-200000]), True)"
   ]
  },
  {
   "cell_type": "code",
   "execution_count": 149,
   "metadata": {},
   "outputs": [],
   "source": [
    "#5.List of Multiples\n",
    "def list_of_multiples (num, l):\n",
    "\ti = 0\n",
    "\tm = []\n",
    "\twhile i < l :\n",
    "\t\tm.append(num*(i+1))\n",
    "\t\ti=i+1\n",
    "\treturn (m)"
   ]
  },
  {
   "cell_type": "code",
   "execution_count": 150,
   "metadata": {},
   "outputs": [
    {
     "name": "stdout",
     "output_type": "stream",
     "text": [
      "Passed\n",
      "Passed\n",
      "Passed\n",
      "Passed\n",
      "Passed\n",
      "Passed\n",
      "Passed\n"
     ]
    }
   ],
   "source": [
    "Test.assert_equals(list_of_multiples(7, 5), [7, 14, 21, 28, 35])\n",
    "Test.assert_equals(list_of_multiples(12, 10), [12, 24, 36, 48, 60, 72, 84, 96, 108, 120])\n",
    "Test.assert_equals(list_of_multiples(17, 7), [17, 34, 51, 68, 85, 102, 119])\n",
    "Test.assert_equals(list_of_multiples(630, 14), [630, 1260, 1890, 2520, 3150, 3780, 4410, 5040, 5670, 6300, 6930, 7560, 8190, 8820])\n",
    "Test.assert_equals(list_of_multiples(140, 3), [140, 280, 420])\n",
    "Test.assert_equals(list_of_multiples(7, 8), [7, 14, 21, 28, 35, 42, 49, 56])\n",
    "Test.assert_equals(list_of_multiples(11, 21), [11, 22, 33, 44, 55, 66, 77, 88, 99, 110, 121, 132, 143, 154, 165, 176, 187, 198, 209, 220, 231])"
   ]
  }
 ],
 "metadata": {
  "kernelspec": {
   "display_name": "Python 3",
   "language": "python",
   "name": "python3"
  }
 },
 "nbformat": 4,
 "nbformat_minor": 4
}
