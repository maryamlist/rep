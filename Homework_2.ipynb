{
 "cells": [
  {
   "cell_type": "markdown",
   "metadata": {},
   "source": [
    "1. Создайте двумерный массив 10x3, заполненный случайными значениями. В каждой строке выберите значение, наиболее близкое к 0.5."
   ]
  },
  {
   "cell_type": "code",
   "execution_count": 7,
   "metadata": {
    "scrolled": false
   },
   "outputs": [
    {
     "name": "stdout",
     "output_type": "stream",
     "text": [
      "[[0.46211328 0.04906603 0.9988854 ]\n",
      " [0.67250974 0.36173739 0.36612704]\n",
      " [0.24346218 0.44947502 0.7039431 ]\n",
      " [0.63240179 0.02243569 0.67720706]\n",
      " [0.24942553 0.64027177 0.59114062]\n",
      " [0.38548113 0.89345146 0.03031966]\n",
      " [0.65864246 0.79283908 0.11900283]\n",
      " [0.18942477 0.86294059 0.82867747]\n",
      " [0.44340832 0.28703648 0.12269009]\n",
      " [0.33380226 0.97245171 0.56526974]]\n",
      "0.4621132770941785\n",
      "0.3661270445767627\n",
      "0.44947501795046285\n",
      "0.6324017943762142\n",
      "0.5911406181134145\n",
      "0.38548113120065397\n",
      "0.6586424576529037\n",
      "0.18942477381566258\n",
      "0.44340832041381173\n",
      "0.5652697351922887\n"
     ]
    }
   ],
   "source": [
    "import numpy as np\n",
    "a = np.random.rand(30).reshape(10, 3)\n",
    "i=0\n",
    "print(a)\n",
    "while i<10: \n",
    "    c = np.argmin(np.abs(a[i] - 0.5))\n",
    "    print (a[i][c])\n",
    "    i=i+1"
   ]
  },
  {
   "cell_type": "markdown",
   "metadata": {},
   "source": [
    "2. Создайте двумерный массив 6x6, заполненный случайными значениями. Затем сумму по каждой строке поделите на минимальный элемент из столбца с тем же индексом."
   ]
  },
  {
   "cell_type": "code",
   "execution_count": 8,
   "metadata": {},
   "outputs": [
    {
     "name": "stdout",
     "output_type": "stream",
     "text": [
      "[[0.68983259 0.88220675 0.07236333 0.26239913 0.72305945 0.01460576]\n",
      " [0.01542404 0.89436961 0.27844759 0.1419447  0.69885499 0.7511539 ]\n",
      " [0.4337302  0.64754004 0.13888119 0.87905789 0.02202844 0.22116158]\n",
      " [0.04825317 0.26671437 0.31013624 0.15461486 0.90012721 0.32627856]\n",
      " [0.78018531 0.00746894 0.17478381 0.49862672 0.19909631 0.21577434]\n",
      " [0.8772943  0.29635928 0.05532669 0.69947985 0.04605682 0.25185031]]\n",
      "[171.45096164 372.23395501  42.33760173  14.13314073  85.1597164\n",
      " 152.43076948]\n"
     ]
    }
   ],
   "source": [
    "import numpy as np\n",
    "a = np.random.rand(36).reshape(6, 6)\n",
    "print(a)\n",
    "print(np.sum(a,1)/np.min(a,0))"
   ]
  },
  {
   "cell_type": "markdown",
   "metadata": {},
   "source": [
    "3. На примере массива x = np.array([6, 2, 0, 3, 0, 0, 5, 7, 0]) найдите максимальный элемент в массиве среди элементов, перед которыми стоит ноль."
   ]
  },
  {
   "cell_type": "code",
   "execution_count": 9,
   "metadata": {},
   "outputs": [
    {
     "name": "stdout",
     "output_type": "stream",
     "text": [
      "5\n"
     ]
    }
   ],
   "source": [
    "import numpy as np\n",
    "a = np.array([6, 2, 0, 3, 0, 0, 5, 7, 0])\n",
    "zero = a == 0\n",
    "print (a[1:][zero[:-1]].max())"
   ]
  },
  {
   "cell_type": "markdown",
   "metadata": {},
   "source": [
    "4. Пусть заданы два массива x = np.ones(10) и i = np.array([0, 1, 2, 3, 5, 5, 5, 8]). Прибавьте единицу к тем элементам массива x, индексы которых указаны в массиве i. В случае, если некоторый индекс встретился в массиве i несколько раз, прибавьте к соответствующему элементу массива x число вхождений данного индекса в массив i."
   ]
  },
  {
   "cell_type": "code",
   "execution_count": 10,
   "metadata": {},
   "outputs": [
    {
     "name": "stdout",
     "output_type": "stream",
     "text": [
      "[2. 2. 2. 2. 1. 4. 1. 1. 2. 1.]\n"
     ]
    }
   ],
   "source": [
    "import numpy as np\n",
    "x = np.ones(10)\n",
    "i = np.array([0, 1, 2, 3, 5, 5, 5, 8])\n",
    "print(x + np.bincount(i, minlength = len(x)));"
   ]
  },
  {
   "cell_type": "markdown",
   "metadata": {},
   "source": [
    "5. Написать функцию, реализующую алгоритм k-means. Входные и выходные значения функции должны быть аналогичны https://docs.scipy.org/doc/scipy-0.15.1/reference/generated/scipy.cluster.vq.kmeans.html. Функция должна содержать только один цикл while (for)."
   ]
  },
  {
   "cell_type": "code",
   "execution_count": 11,
   "metadata": {},
   "outputs": [],
   "source": [
    "import numpy as np\n",
    "\n",
    "def k_means(x, k, t = 1000, eps = 1e-05):\n",
    "    n = x.shape[0]\n",
    "    d = x.shape[1] \n",
    "    ncent = x[:k,:] #centroids\n",
    "    cent = np.zeros((k,d))\n",
    "    ndist = n * d * k * np.max(x) ** 2 \n",
    "    dist = 0\n",
    "    x = np.expand_dims(x, axis = 1) # dim (x) = n*1*d\n",
    "    i = 0\n",
    "    while np.abs(ndist - dist) > eps and i < t:\n",
    "        cent = ncent\n",
    "        dist = ndist\n",
    "        clust = np.argmin(((x - ncent) ** 2).sum(axis = 2), axis = 1) # dim (x-ncent) = n*k*d\n",
    "        M = np.zeros(n * k * d).reshape(n, k, d)\n",
    "        M[np.arange(n), clust] = (x - ncent)[np.arange(n),clust] / np.bincount(clust)[clust].reshape(n, 1)\n",
    "        ncent = cent + M.sum(axis = 0)\n",
    "        clust = np.argmin(((x - ncent) ** 2).sum(axis = 2),axis = 1) #clust[i] = klaster's number for x[i]\n",
    "        M = np.zeros(n * k * d).reshape(n, k, d)\n",
    "        M[np.arange(n), clust] = (x - ncent)[np.arange(n), clust]\n",
    "        ndist = np.sqrt((M ** 2).sum(axis = 2)).sum(axis = 1).mean()\n",
    "        i = i + 1\n",
    "    return ncent, ndist"
   ]
  },
  {
   "cell_type": "markdown",
   "metadata": {},
   "source": [
    "6. С помощью реализованной функции kmeans выделить кластеры клиентов в разрезах возраст-доход, возрвст-покупательский индекс, доход-покупательский индекс. В каждом случае использовать elbow method для определения оптимального числа кластеров. Визуализировать полученные кластеры (каждый кластер изобразить собственным цветом). Дать интерпретацию полученным кластерам."
   ]
  },
  {
   "cell_type": "code",
   "execution_count": 12,
   "metadata": {},
   "outputs": [
    {
     "name": "stdout",
     "output_type": "stream",
     "text": [
      "(array([[ 34.51470588,   0.41176471,  38.02941176,  32.11764706,\n",
      "         50.29411765],\n",
      "       [102.5       ,   0.44117647,  41.95588235,  61.35294118,\n",
      "         48.86764706],\n",
      "       [168.484375  ,   0.46875   ,  36.421875  ,  89.9375    ,\n",
      "         51.515625  ]]), 34.6832499637399)\n",
      "(array([[ 31.5       ,   0.40322581,  37.4516129 ,  30.61290323,\n",
      "         49.83870968],\n",
      "       [ 97.5       ,   0.45714286,  42.81428571,  59.54285714,\n",
      "         50.51428571],\n",
      "       [166.5       ,   0.45588235,  36.04411765,  88.91176471,\n",
      "         50.20588235]]), 34.634682792158)\n"
     ]
    },
    {
     "data": {
      "image/png": "[encoded data removed]",
      "text/plain": [
       "<Figure size 432x288 with 1 Axes>"
      ]
     },
     "metadata": {
      "needs_background": "light"
     },
     "output_type": "display_data"
    },
    {
     "data": {
      "image/png": "[encoded data removed]",
      "text/plain": [
       "<Figure size 1152x576 with 1 Axes>"
      ]
     },
     "metadata": {
      "needs_background": "light"
     },
     "output_type": "display_data"
    },
    {
     "name": "stderr",
     "output_type": "stream",
     "text": [
      "<ipython-input-12-403c5ec86ff0>:44: FutureWarning: arrays to stack must be passed as a \"sequence\" type such as list or tuple. Support for non-sequence iterables such as generators is deprecated as of NumPy 1.16 and will raise an error in the future.\n",
      "  clust1 = np.vstack(row for row in matrix if row[-1] == 0)\n",
      "<ipython-input-12-403c5ec86ff0>:45: FutureWarning: arrays to stack must be passed as a \"sequence\" type such as list or tuple. Support for non-sequence iterables such as generators is deprecated as of NumPy 1.16 and will raise an error in the future.\n",
      "  clust2 = np.vstack(row for row in matrix if row[-1] == 1)\n",
      "<ipython-input-12-403c5ec86ff0>:46: FutureWarning: arrays to stack must be passed as a \"sequence\" type such as list or tuple. Support for non-sequence iterables such as generators is deprecated as of NumPy 1.16 and will raise an error in the future.\n",
      "  clust3 = np.vstack(row for row in matrix if row[-1] == 2)\n"
     ]
    },
    {
     "ename": "NameError",
     "evalue": "name 'block1' is not defined",
     "output_type": "error",
     "traceback": [
      "\u001b[0;31m---------------------------------------------------------------------------\u001b[0m",
      "\u001b[0;31mNameError\u001b[0m                                 Traceback (most recent call last)",
      "\u001b[0;32m<ipython-input-12-403c5ec86ff0>\u001b[0m in \u001b[0;36m<module>\u001b[0;34m\u001b[0m\n\u001b[1;32m     46\u001b[0m \u001b[0mclust3\u001b[0m \u001b[0;34m=\u001b[0m \u001b[0mnp\u001b[0m\u001b[0;34m.\u001b[0m\u001b[0mvstack\u001b[0m\u001b[0;34m(\u001b[0m\u001b[0mrow\u001b[0m \u001b[0;32mfor\u001b[0m \u001b[0mrow\u001b[0m \u001b[0;32min\u001b[0m \u001b[0mmatrix\u001b[0m \u001b[0;32mif\u001b[0m \u001b[0mrow\u001b[0m\u001b[0;34m[\u001b[0m\u001b[0;34m-\u001b[0m\u001b[0;36m1\u001b[0m\u001b[0;34m]\u001b[0m \u001b[0;34m==\u001b[0m \u001b[0;36m2\u001b[0m\u001b[0;34m)\u001b[0m\u001b[0;34m\u001b[0m\u001b[0;34m\u001b[0m\u001b[0m\n\u001b[1;32m     47\u001b[0m \u001b[0;34m\u001b[0m\u001b[0m\n\u001b[0;32m---> 48\u001b[0;31m \u001b[0mplt\u001b[0m\u001b[0;34m.\u001b[0m\u001b[0mscatter\u001b[0m\u001b[0;34m(\u001b[0m\u001b[0mblock1\u001b[0m\u001b[0;34m[\u001b[0m\u001b[0;34m:\u001b[0m\u001b[0;34m,\u001b[0m\u001b[0;36m0\u001b[0m\u001b[0;34m]\u001b[0m\u001b[0;34m,\u001b[0m \u001b[0mblock1\u001b[0m\u001b[0;34m[\u001b[0m\u001b[0;34m:\u001b[0m\u001b[0;34m,\u001b[0m\u001b[0;36m1\u001b[0m\u001b[0;34m]\u001b[0m\u001b[0;34m,\u001b[0m \u001b[0mc\u001b[0m\u001b[0;34m=\u001b[0m\u001b[0;34m'r'\u001b[0m\u001b[0;34m,\u001b[0m \u001b[0mlabel\u001b[0m\u001b[0;34m=\u001b[0m\u001b[0;34m'First claster'\u001b[0m\u001b[0;34m)\u001b[0m\u001b[0;34m\u001b[0m\u001b[0;34m\u001b[0m\u001b[0m\n\u001b[0m\u001b[1;32m     49\u001b[0m \u001b[0mplt\u001b[0m\u001b[0;34m.\u001b[0m\u001b[0mscatter\u001b[0m\u001b[0;34m(\u001b[0m\u001b[0mblock2\u001b[0m\u001b[0;34m[\u001b[0m\u001b[0;34m:\u001b[0m\u001b[0;34m,\u001b[0m\u001b[0;36m0\u001b[0m\u001b[0;34m]\u001b[0m\u001b[0;34m,\u001b[0m \u001b[0mblock2\u001b[0m\u001b[0;34m[\u001b[0m\u001b[0;34m:\u001b[0m\u001b[0;34m,\u001b[0m\u001b[0;36m1\u001b[0m\u001b[0;34m]\u001b[0m\u001b[0;34m,\u001b[0m \u001b[0mc\u001b[0m\u001b[0;34m=\u001b[0m\u001b[0;34m'g'\u001b[0m\u001b[0;34m,\u001b[0m \u001b[0mlabel\u001b[0m\u001b[0;34m=\u001b[0m\u001b[0;34m'Second cluster'\u001b[0m\u001b[0;34m)\u001b[0m\u001b[0;34m\u001b[0m\u001b[0;34m\u001b[0m\u001b[0m\n\u001b[1;32m     50\u001b[0m \u001b[0mplt\u001b[0m\u001b[0;34m.\u001b[0m\u001b[0mscatter\u001b[0m\u001b[0;34m(\u001b[0m\u001b[0mblock3\u001b[0m\u001b[0;34m[\u001b[0m\u001b[0;34m:\u001b[0m\u001b[0;34m,\u001b[0m\u001b[0;36m0\u001b[0m\u001b[0;34m]\u001b[0m\u001b[0;34m,\u001b[0m \u001b[0mblock3\u001b[0m\u001b[0;34m[\u001b[0m\u001b[0;34m:\u001b[0m\u001b[0;34m,\u001b[0m\u001b[0;36m1\u001b[0m\u001b[0;34m]\u001b[0m\u001b[0;34m,\u001b[0m \u001b[0mc\u001b[0m\u001b[0;34m=\u001b[0m\u001b[0;34m'b'\u001b[0m\u001b[0;34m,\u001b[0m \u001b[0mlabel\u001b[0m\u001b[0;34m=\u001b[0m\u001b[0;34m'Third claster'\u001b[0m\u001b[0;34m)\u001b[0m\u001b[0;34m\u001b[0m\u001b[0;34m\u001b[0m\u001b[0m\n",
      "\u001b[0;31mNameError\u001b[0m: name 'block1' is not defined"
     ]
    }
   ],
   "source": [
    "import matplotlib.pyplot as plt\n",
    "import numpy as np\n",
    "from scipy.cluster.vq import kmeans\n",
    "from scipy.spatial import distance\n",
    "\n",
    "url = 'https://raw.githubusercontent.com/sharmaroshan/Clustering-of-Mall-Customers/master/Mall_Customers.csv'\n",
    "data = np.loadtxt(url, delimiter=',', dtype=object, skiprows=1)\n",
    "data[:, 1] = data[:, 1] == 'Male'\n",
    "data = data.astype(float)\n",
    "\n",
    "#проверка (все верно)\n",
    "\n",
    "print(k_means(data,3))\n",
    "print(kmeans(data,3)) \n",
    "\n",
    "\n",
    "#Age-Annual Income\n",
    "\n",
    "plt.scatter(data[:, 2], data[:, 3])\n",
    "plt.xlabel('Age')\n",
    "plt.ylabel('Annual Income')\n",
    "plt.show()\n",
    "\n",
    "distortions = []\n",
    "K = range(1,11)\n",
    "for k in K:\n",
    "    distortions.append(k_means(data[:,[2,3]], k)[1])\n",
    "\n",
    "plt.figure(figsize=(16,8))\n",
    "plt.plot(K, distortions, 'o-r')\n",
    "plt.xlabel('k')\n",
    "plt.ylabel('Distortion')\n",
    "plt.title('The Elbow Method showing the optimal k')\n",
    "plt.show()\n",
    "\n",
    "#Thus, k = 3\n"
   ]
  },
  {
   "cell_type": "code",
   "execution_count": null,
   "metadata": {},
   "outputs": [],
   "source": [
    "#Age-Spending Score\n",
    "\n",
    "plt.scatter(data[:, 2], data[:, 4])\n",
    "plt.xlabel('Age')\n",
    "plt.ylabel('Spending Score')\n",
    "plt.show()\n",
    "\n",
    "distortions = []\n",
    "K = range(1,11)\n",
    "for k in K:\n",
    "    distortions.append(k_means(data[:,[2,4]], k)[1])\n",
    "    \n",
    "plt.figure(figsize=(16,8))\n",
    "plt.plot(K, distortions, 'o-r')\n",
    "plt.xlabel('k')\n",
    "plt.ylabel('Distortion')\n",
    "plt.title('The Elbow Method showing the optimal k')\n",
    "plt.show()\n",
    "\n",
    "#Thus, k = 4"
   ]
  },
  {
   "cell_type": "code",
   "execution_count": null,
   "metadata": {},
   "outputs": [],
   "source": [
    "#Annual Income-Spending Score\n",
    "\n",
    "plt.scatter(data[:, 3], data[:, 4])\n",
    "plt.xlabel('Annual Income')\n",
    "plt.ylabel('Spending Score')\n",
    "plt.show()\n",
    "\n",
    "distortions = []\n",
    "K = range(1,11)\n",
    "for k in K:\n",
    "    distortions.append(k_means(data[:,[3,4]], k)[1])\n",
    "    \n",
    "plt.figure(figsize=(16,8))\n",
    "plt.plot(K, distortions, 'o-r')\n",
    "plt.xlabel('k')\n",
    "plt.ylabel('Distortion')\n",
    "plt.title('The Elbow Method showing the optimal k')\n",
    "plt.show()\n",
    "\n",
    "#Thus, k = 5"
   ]
  }
 ],
 "metadata": {
  "kernelspec": {
   "display_name": "Python 3",
   "language": "python",
   "name": "python3"
  },
  "language_info": {
   "codemirror_mode": {
    "name": "ipython",
    "version": 3
   },
   "file_extension": ".py",
   "mimetype": "text/x-python",
   "name": "python",
   "nbconvert_exporter": "python",
   "pygments_lexer": "ipython3",
   "version": "3.8.3"
  }
 },
 "nbformat": 4,
 "nbformat_minor": 4
}
